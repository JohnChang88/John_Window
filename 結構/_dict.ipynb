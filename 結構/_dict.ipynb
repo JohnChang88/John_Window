{
 "cells": [
  {
   "cell_type": "code",
   "execution_count": 22,
   "metadata": {},
   "outputs": [
    {
     "name": "stdout",
     "output_type": "stream",
     "text": [
      "{'one': 1, 'two': 2, 'three': 4}\n"
     ]
    }
   ],
   "source": [
    "#建立dict\n",
    "d1:dict={'one':1,\n",
    " 'two':2,\n",
    " 'three':3\n",
    "}\n",
    "#=\n",
    "d1:dict={'one':1,\n",
    "        'two':2,\n",
    "        'three':3,\n",
    "        'three':4\n",
    "}\n",
    "#\n",
    "print(d1)\n",
    "\n",
    "# print(len(d1))#number of dict\n",
    "# print(type(d1))"
   ]
  },
  {
   "cell_type": "code",
   "execution_count": 23,
   "metadata": {},
   "outputs": [
    {
     "name": "stdout",
     "output_type": "stream",
     "text": [
      "1\n",
      "2\n",
      "4\n",
      "one\n",
      "two\n",
      "three\n"
     ]
    }
   ],
   "source": [
    "#subscript[key]\n",
    "print(d1['one'])\n",
    "print(d1['two'])\n",
    "print(d1['three'])\n",
    "\n",
    "#use for in\n",
    "for key in d1:\n",
    "    print(key)"
   ]
  },
  {
   "cell_type": "code",
   "execution_count": 24,
   "metadata": {},
   "outputs": [
    {
     "name": "stdout",
     "output_type": "stream",
     "text": [
      "{'one': 1, 'two': 2, 'three': 5, 'four': 6, 'five': 7}\n"
     ]
    }
   ],
   "source": [
    "#add element\n",
    "d1['three']=5\n",
    "d1['four']=6\n",
    "d1['five']=7\n",
    "print(d1)"
   ]
  },
  {
   "cell_type": "code",
   "execution_count": null,
   "metadata": {},
   "outputs": [],
   "source": [
    "# del element\n",
    "if 'four' in d1:\n",
    "    del d1['four']\n",
    "if 'fire' in d1:\n",
    "    del d1['fire']\n",
    "print(d1)"
   ]
  },
  {
   "cell_type": "code",
   "execution_count": 8,
   "metadata": {},
   "outputs": [
    {
     "data": {
      "text/plain": [
       "<function dict.keys>"
      ]
     },
     "execution_count": 8,
     "metadata": {},
     "output_type": "execute_result"
    }
   ],
   "source": [
    "#類似list就可以被for in 迴圈\n",
    "d1.keys"
   ]
  },
  {
   "cell_type": "code",
   "execution_count": 10,
   "metadata": {},
   "outputs": [
    {
     "name": "stdout",
     "output_type": "stream",
     "text": [
      "1\n",
      "2\n",
      "3\n",
      "4\n",
      "5\n"
     ]
    }
   ],
   "source": [
    "# tuple就可用拆解法\n",
    "d1.values()\n",
    "for vlaue in d1.values():\n",
    "    print(vlaue)"
   ]
  },
  {
   "cell_type": "code",
   "execution_count": 12,
   "metadata": {},
   "outputs": [
    {
     "name": "stdout",
     "output_type": "stream",
     "text": [
      "one\n",
      "two\n",
      "three\n",
      "forur\n",
      "five\n"
     ]
    }
   ],
   "source": [
    "#keys(),values(),items()實體方法\n",
    "d1.keys()\n",
    "for key in d1.keys():\n",
    "    print(key)"
   ]
  },
  {
   "cell_type": "code",
   "execution_count": 16,
   "metadata": {},
   "outputs": [
    {
     "name": "stdout",
     "output_type": "stream",
     "text": [
      "one\n",
      "1\n",
      "two\n",
      "2\n",
      "three\n",
      "3\n",
      "forur\n",
      "4\n",
      "five\n",
      "5\n"
     ]
    }
   ],
   "source": [
    "d1.items()\n",
    "for key,value in d1.items():\n",
    "    print(key)\n",
    "    print(value)"
   ]
  }
 ],
 "metadata": {
  "kernelspec": {
   "display_name": "venv1",
   "language": "python",
   "name": "python3"
  },
  "language_info": {
   "codemirror_mode": {
    "name": "ipython",
    "version": 3
   },
   "file_extension": ".py",
   "mimetype": "text/x-python",
   "name": "python",
   "nbconvert_exporter": "python",
   "pygments_lexer": "ipython3",
   "version": "3.10.14"
  }
 },
 "nbformat": 4,
 "nbformat_minor": 2
}
